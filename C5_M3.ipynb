{
 "cells": [
  {
   "cell_type": "code",
   "execution_count": 25,
   "id": "58e71e2d-a29a-4382-9f18-96c1db27eb8a",
   "metadata": {},
   "outputs": [],
   "source": [
    "from sklearn.metrics import accuracy_score, roc_auc_score, f1_score\n",
    "import numpy as np\n",
    "from typing import List, Dict, Union, Optional\n",
    "from datetime import datetime\n",
    "from pathlib import Path\n",
    "import logging\n",
    "import time\n",
    "from ultralytics import YOLO\n",
    "import json\n",
    "import os"
   ]
  },
  {
   "cell_type": "markdown",
   "id": "8e790e8e-f844-4207-a2f4-1040e06c3f4f",
   "metadata": {},
   "source": [
    "Пайплайн содержит три модели YOLOv8-cls для решения задачи классицикации (количесво классов num_classes= 1000).\\\n",
    "В функцию списком подаются 3 модели : yolov8n-cls, yolov8s-cls, yolov8m-cls"
   ]
  },
  {
   "cell_type": "code",
   "execution_count": 26,
   "id": "40a13d19-e5c7-4d1e-9fb1-74a53b3ed029",
   "metadata": {},
   "outputs": [],
   "source": [
    "#Определение функции\n",
    "def train_simple_pipeline(\n",
    "    model_type: str,\n",
    "    train_dir: str,\n",
    "    val_dir: str,\n",
    "    num_classes: int = 1000,\n",
    "    epochs: int = 50\n",
    ") -> list:\n",
    "\n",
    "    \n",
    "    valid_models = [\"yolov8n-cls\", \"yolov8s-cls\", \"yolov8m-cls\"]\n",
    "    if model_type not in valid_models:\n",
    "        raise ValueError(f\"Выберите модель из: {valid_models}\")\n",
    "\n",
    "    #вызов модели\n",
    "    model = YOLO(f\"{model_type}.pt\")\n",
    "\n",
    "    #Обучение\n",
    "    start_time = time.time()\n",
    "    results = model.train(\n",
    "        data=\"/home/c5/Рабочий стол/С[5]/C5_M2/images/Gauge_big/data.yaml\",  # Требуется файл с путями\n",
    "        epochs=epochs,\n",
    "        imgsz=224,\n",
    "        verbose=False\n",
    "    )\n",
    "\n",
    "    # Расчет метрик accuracy, roc_auc_score, f1_score (macro)\n",
    "    val_results = model.predict(val_dir)\n",
    "    \n",
    "    true_labels = np.array([int(Path(img).parent.name) for img in val_results.imgs])\n",
    "    pred_probs = np.array([pred.probs for pred in val_results])\n",
    "\n",
    "    pred_labels = np.argmax(pred_probs, axis=1)\n",
    "    metrics = {\n",
    "        \"accuracy\": accuracy_score(true_labels, pred_labels),\n",
    "        \"roc_auc\": roc_auc_score(true_labels, pred_probs, multi_class='ovr'),\n",
    "        \"f1_score\": f1_score(true_labels, pred_labels, average='macro')\n",
    "    }\n",
    "\n",
    "    # Результаты\n",
    "    output = {\n",
    "        \"model\": model_type,\n",
    "        \"metrics\": metrics,\n",
    "        \"time_sec\": time.time() - start_time\n",
    "    }\n",
    "    \n",
    "    with open(f\"results_{model_type}.json\", \"w\") as f:\n",
    "        json.dump(output, f)\n",
    "\n",
    "    return [model, metrics, output[\"time_sec\"]]"
   ]
  },
  {
   "cell_type": "markdown",
   "id": "d9582e12-51bb-4fdf-b3e7-4619e46d22db",
   "metadata": {},
   "source": [
    "##c\n",
    "\n",
    "\n",
    "datasets/\n",
    "\n",
    "├── train/\n",
    "\n",
    "│   ├── class_0/\n",
    "\n",
    "│   ├── class_1/\n",
    "\n",
    "│   └── ... \n",
    "\n",
    "├── val/\n",
    "\n",
    "│   ├── class_0/\n",
    "\n",
    "│   ├── class_1/\n",
    "\n",
    "│   └── ...\n",
    "\n",
    "└── data.yaml"
   ]
  },
  {
   "cell_type": "code",
   "execution_count": 16,
   "id": "ebca2800-e701-4b4b-9d03-2f07b5b521d2",
   "metadata": {},
   "outputs": [
    {
     "name": "stdout",
     "output_type": "stream",
     "text": [
      "Downloading https://github.com/ultralytics/assets/releases/download/v8.3.0/yolov8n.pt to 'yolov8n.pt'...\n"
     ]
    },
    {
     "name": "stderr",
     "output_type": "stream",
     "text": [
      "100%|█████████████████████████████████████████████████████████████████| 6.25M/6.25M [00:00<00:00, 10.3MB/s]\n"
     ]
    }
   ],
   "source": [
    "result = train_simple_pipeline(\n",
    "    model_type=\"yolov8n-cls\",\n",
    "    train_dir=\"datasets/train\",\n",
    "    val_dir=\"datasets/val\",\n",
    "    num_classes=10,\n",
    "    epochs=30\n",
    ")\n",
    "\n",
    "model, metrics, time = result\n",
    "print(f\"\"\"\n",
    "Результаты для {model_type}:\n",
    "- Accuracy: {metrics['accuracy']:.2%}\n",
    "- ROC-AUC:  {metrics['roc_auc']:.3f}\n",
    "- F1-Score:  {metrics['f1_score']:.3f}\n",
    "- Время обучения: {time:.1f} сек\n",
    "\"\"\")"
   ]
  },
  {
   "cell_type": "code",
   "execution_count": 17,
   "id": "19781ab1-d86b-48dc-a555-4e02e3e2d754",
   "metadata": {},
   "outputs": [
    {
     "name": "stdout",
     "output_type": "stream",
     "text": [
      "YOLOv8n summary: 225 layers, 3,157,200 parameters, 0 gradients, 8.9 GFLOPs\n"
     ]
    },
    {
     "data": {
      "text/plain": [
       "(225, 3157200, 0, 8.8575488)"
      ]
     },
     "execution_count": 17,
     "metadata": {},
     "output_type": "execute_result"
    }
   ],
   "source": [
    "model.info()"
   ]
  }
 ],
 "metadata": {
  "kernelspec": {
   "display_name": "Python 3 (ipykernel)",
   "language": "python",
   "name": "python3"
  },
  "language_info": {
   "codemirror_mode": {
    "name": "ipython",
    "version": 3
   },
   "file_extension": ".py",
   "mimetype": "text/x-python",
   "name": "python",
   "nbconvert_exporter": "python",
   "pygments_lexer": "ipython3",
   "version": "3.11.2"
  }
 },
 "nbformat": 4,
 "nbformat_minor": 5
}
